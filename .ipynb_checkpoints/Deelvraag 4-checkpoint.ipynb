{
 "cells": [
  {
   "cell_type": "markdown",
   "metadata": {},
   "source": [
    "# Sub question 4: Education\n",
    "\n",
    "Intro\n",
    "\n",
    "Welke indicator wordt hier gebruikt? Wat is de data die beschikbaar is? Missing data? Op welke manier wordt de value gegeven? In percentages, absolute aantallen?\n",
    "\n",
    "Verschil tussen mannen en vrouw in education. Dit visualiseren met behulp van een bar plot waar bars bovenop elkaar worden geplot. \n",
    "\n",
    "Grafiek van de verandering ontwikkelingen over de jaren heen per land. Met een lijn van man en een lijn van vrouw\n",
    "\n",
    "subconclusion"
   ]
  },
  {
   "cell_type": "code",
   "execution_count": 1,
   "metadata": {},
   "outputs": [],
   "source": [
    "# import World Bank data\n",
    "import wbdata\n",
    "import numpy as np\n",
    "import pandas as pd\n",
    "import matplotlib.pyplot as plt\n",
    "from scipy import stats\n"
   ]
  },
  {
   "cell_type": "code",
   "execution_count": 2,
   "metadata": {},
   "outputs": [],
   "source": [
    "#wbdata.get_source()"
   ]
  },
  {
   "cell_type": "code",
   "execution_count": 3,
   "metadata": {
    "scrolled": false
   },
   "outputs": [],
   "source": [
    "#wbdata.get_indicator(source=16)"
   ]
  },
  {
   "cell_type": "code",
   "execution_count": 4,
   "metadata": {},
   "outputs": [],
   "source": [
    "#Indicators\n",
    "# SE.PRM.NENR.MA      \tSchool enrollment, primary, male (% net)\n",
    "# SE.PRM.NENR.FE      \tSchool enrollment, primary, female (% net)\n",
    "# SE.SEC.NENR.MA      \tSchool enrollment, secondary, male (% net)\n",
    "# SE.SEC.NENR.FE      \tSchool enrollment, secondary, female (% net)\n",
    "# SE.PRM.CMPT.MA.ZS   \tPrimary completion rate, male (% of relevant age group)\n",
    "# SE.PRM.CMPT.FE.ZS   \tPrimary completion rate, female (% of relevant age group)\n",
    "# SE.ADT.LITR.MA.ZS   \tLiteracy rate, adult male (% of males ages 15 and above)\n",
    "# SE.ADT.LITR.FE.ZS   \tLiteracy rate, adult female (% of females ages 15 and above)\n",
    "# SE.ADT.1524.LT.FM.ZS\tLiteracy rate, youth (ages 15-24), gender parity index (GPI)"
   ]
  },
  {
   "cell_type": "code",
   "execution_count": 5,
   "metadata": {},
   "outputs": [],
   "source": [
    "def clean(indicator):\n",
    "    #create data frame\n",
    "    name = pd.DataFrame(wbdata.get_data(indicator))\n",
    "    \n",
    "    #clean the date\n",
    "    name['country_code'] = name.country.astype(str).str.slice(8,10)\n",
    "    name['country'] = name.country.astype(str).str.slice(23,-2)\n",
    "    name['indicator'] = name.indicator.astype(str).str.slice(35,-2)\n",
    "    name[\"date\"] = name[\"date\"].astype(int) \n",
    "    name[\"value\"] = name[\"value\"].astype(float).round(2)\n",
    "    return name"
   ]
  },
  {
   "cell_type": "code",
   "execution_count": 6,
   "metadata": {},
   "outputs": [],
   "source": [
    "# make a dataframe from the indicator of gender equality rate\n",
    "CPIA_all = clean(\"IQ.CPA.GNDR.XQ\")\n",
    "\n",
    "# Filter the dataset on year and on country code which are not numeric\n",
    "CPIA_all_year_alpha = CPIA_all.loc[(CPIA_all['date'] == 2017) & (CPIA_all.country_code.str.isalpha())]\n",
    "CPIA_OnlyCountries = CPIA_all_year_alpha[17:]\n",
    "\n",
    "#sort the countries by 'value' (their rating) and only show the Top 15\n",
    "CPIA_worst15 = CPIA_OnlyCountries.sort_values(by='value', ascending=True)[:15]"
   ]
  },
  {
   "cell_type": "code",
   "execution_count": 7,
   "metadata": {},
   "outputs": [],
   "source": [
    "# Make a dataframe from the GDP data\n",
    "GDP_all = clean(\"NY.GDP.PCAP.CD\")\n",
    "\n",
    "# Make the value in the column \"date\" a string\n",
    "GDP_all[\"date\"] = GDP_all.date.astype(str)\n",
    "CPIA_worst15[\"date\"] = CPIA_worst15[\"date\"].astype(str)"
   ]
  },
  {
   "cell_type": "code",
   "execution_count": 8,
   "metadata": {},
   "outputs": [],
   "source": [
    "# wbdata.get_data(\"SE.PRM.NENR.MA\")\n",
    "# wbdata.get_data(\"SE.PRM.NENR.FE\")\n",
    "# wbdata.get_data(\"SE.SEC.NENR.MA\")\n",
    "# wbdata.get_data(\"SE.SEC.NENR.FE\")\n",
    "# wbdata.get_data(\"SE.PRM.CMPT.MA.ZS\")\n",
    "# wbdata.get_data(\"SE.PRM.CMPT.FE.ZS\")\n",
    "# wbdata.get_data(\"SE.ADT.LITR.MA.ZS\")\n",
    "# wbdata.get_data(\"SE.ADT.LITR.FE.ZS\")\n",
    "# wbdata.get_data(\"SE.ADT.1524.LT.FM.ZS\")"
   ]
  },
  {
   "cell_type": "code",
   "execution_count": 9,
   "metadata": {},
   "outputs": [],
   "source": [
    "# Make a dataframe from the indicators data\n",
    "Primary_School_Male = clean ('SE.PRM.NENR.MA')\n",
    "Primary_School_Female = clean ('SE.PRM.NENR.FE')\n",
    "Secundary_School_Male = clean ('SE.SEC.NENR.MA')\n",
    "Secundary_School_Female = clean ('SE.SEC.NENR.FE')\n",
    "Complete_PrimSchool_Male = clean ('SE.PRM.CMPT.MA.ZS')\n",
    "Complete_PrimSchool_Female = clean ('SE.PRM.CMPT.FE.ZS')\n",
    "Literacy_Rate_Male = clean ('SE.ADT.LITR.MA.ZS')\n",
    "Literacy_Rate_Female = clean ('SE.ADT.LITR.FE.ZS')\n",
    "GPI = clean ('SE.ADT.1524.LT.FM.ZS')"
   ]
  },
  {
   "cell_type": "code",
   "execution_count": 10,
   "metadata": {},
   "outputs": [],
   "source": [
    "#Primary school enrolment\n",
    "#find rows where the value is greater than 0\n",
    "PSM_All = Primary_School_Male.loc[(Primary_School_Male[\"value\"] >= 0)]\n",
    "PSF_All = Primary_School_Female.loc[(Primary_School_Female['value'] >=0)]\n",
    "\n",
    "#find the rows with the most recent data\n",
    "PSM_recent = PSM_All.sort_values(\"date\", ascending = False).drop_duplicates([\"country\"])\n",
    "PSM_recent[\"date\"] = PSM_recent.date.astype(str)\n",
    "\n",
    "PSF_recent = PSF_All.sort_values('date', ascending = False).drop_duplicates(['country'])\n",
    "PSF_recent['date'] = PSF_All.date.astype(str)\n",
    "\n",
    "#Secundary school enrolment\n",
    "#find rows where the value is greater than 0\n",
    "SSM_All = Secundary_School_Male.loc[(Secundary_School_Male[\"value\"] >= 0)]\n",
    "SSF_All = Secundary_School_Female.loc[(Secundary_School_Female['value'] >=0)]\n",
    "\n",
    "#find the rows with the most recent data\n",
    "SSM_recent = SSM_All.sort_values(\"date\", ascending = False).drop_duplicates([\"country\"])\n",
    "SSM_recent[\"date\"] = SSM_recent.date.astype(str)\n",
    "\n",
    "SSF_recent = SSF_All.sort_values('date', ascending = False).drop_duplicates(['country'])\n",
    "SSF_recent['date'] = SSF_All.date.astype(str)"
   ]
  },
  {
   "cell_type": "code",
   "execution_count": 11,
   "metadata": {},
   "outputs": [],
   "source": [
    "#Primary school enrolment\n",
    "PSM15_worst15 = pd.merge( CPIA_worst15, PSM_recent, how = \"left\", left_on = [\"country\"], right_on = [\"country\"])\n",
    "PSF15_worst15 = pd.merge( CPIA_worst15, PSF_recent, how = 'left', left_on = [\"country\"], right_on = [\"country\"])\n",
    "\n",
    "#secundary school enrolment\n",
    "SSM15_worst15 = pd.merge( CPIA_worst15, SSM_recent, how = \"left\", left_on = [\"country\"], right_on = [\"country\"])\n",
    "SSF15_worst15 = pd.merge( CPIA_worst15, SSF_recent, how = 'left', left_on = [\"country\"], right_on = [\"country\"])\n"
   ]
  },
  {
   "cell_type": "markdown",
   "metadata": {},
   "source": [
    "# Stack plots"
   ]
  },
  {
   "cell_type": "code",
   "execution_count": 17,
   "metadata": {},
   "outputs": [],
   "source": [
    "def makeStackedBarPlot(dataframeMale, dataframeFemale, title_SBP, x_label, y_label):\n",
    "    Male = dataframeMale.value_y.values\n",
    "    Female = dataframeFemale.value_y.values\n",
    "    Countries = dataframeMale.country_code_y.values\n",
    "    \n",
    "    N = len(Countries) #setting x axes\n",
    "    ind = np.arange(N) \n",
    "    width = 0.4        #width of the bars\n",
    "    \n",
    "    #Making the bars for Male and Female\n",
    "    p1 = plt.bar(ind, Male, width, label = 'Male', color='blue')\n",
    "    p2 = plt.bar(ind, Female, width, bottom=Male, label = 'Female', color='pink')\n",
    "    \n",
    "    plt.xticks(ind, Countries) #naming the bars\n",
    "    plt.ylabel (y_label)\n",
    "    plt.xlabel (x_label)\n",
    "    plt.title (title_SBP)\n",
    "    \n",
    "    plt.legend()\n",
    "    plt.show()\n",
    "    \n"
   ]
  },
  {
   "cell_type": "code",
   "execution_count": 18,
   "metadata": {},
   "outputs": [
    {
     "data": {
      "image/png": "[encoded data removed]",
      "text/plain": [
       "<Figure size 432x288 with 1 Axes>"
      ]
     },
     "metadata": {},
     "output_type": "display_data"
    }
   ],
   "source": [
    "makeStackedBarPlot (PSM15_worst15, PSF15_worst15,\"Percentage of enrolment in primary school per sex per country\", 'country', 'percentage')\n"
   ]
  },
  {
   "cell_type": "code",
   "execution_count": null,
   "metadata": {},
   "outputs": [],
   "source": [
    "CPM_All = Complete_PrimSchool_Male.loc[(Complete_PrimSchool_Male[\"value\"] >= 0)]\n",
    "CPF_All = Complete_PrimSchool_Female.loc[(Complete_PrimSchool_Female['value'] >=0)]\n",
    "\n",
    "#find the rows with the most recent data\n",
    "CPM_recent = CPM_All.sort_values(\"date\", ascending = False).drop_duplicates([\"country\"])\n",
    "CPM_recent[\"date\"] = CPM_recent.date.astype(str)\n",
    "\n",
    "CPF_recent = CPF_All.sort_values('date', ascending = False).drop_duplicates(['country'])\n",
    "CPF_recent['date'] = CPF_All.date.astype(str)"
   ]
  },
  {
   "cell_type": "code",
   "execution_count": null,
   "metadata": {},
   "outputs": [],
   "source": [
    "CPM15_worst15 = pd.merge( CPIA_worst15, CPM_recent, how = \"left\", left_on = [\"country\"], right_on = [\"country\"])\n",
    "CPF15_worst15 = pd.merge( CPIA_worst15, CPF_recent, how = 'left', left_on = [\"country\"], right_on = [\"country\"])"
   ]
  },
  {
   "cell_type": "code",
   "execution_count": null,
   "metadata": {},
   "outputs": [],
   "source": [
    "#Make arrays of needed columns\n",
    "CPM15 = CPM15_worst15.value_y.values\n",
    "CPF15 = CPF15_worst15.value_y.values\n",
    "Countries = CPM15_worst15.country_code_y.values\n",
    "\n",
    "N = len(Countries) #setting x axes\n",
    "ind = np.arange(N) \n",
    "width = 0.4        #width of the bars\n",
    "\n",
    "p1 = plt.bar(ind, CPM15, width, label = 'Male', color='blue')\n",
    "p2 = plt.bar(ind, CPF15, width, bottom=CPM15, label = 'Female', color='pink')\n",
    "\n",
    "plt.xticks(ind, Countries) #naming the bars\n",
    "plt.ylabel ('pecentage of completion primary school')\n",
    "plt.xlabel ('country')\n",
    "plt.title ('Percentage of completion primary school per sex per country')\n",
    "\n",
    "plt.legend()\n",
    "plt.show()"
   ]
  },
  {
   "cell_type": "code",
   "execution_count": null,
   "metadata": {},
   "outputs": [],
   "source": [
    "LRM_All = Literacy_Rate_Male.loc[(Literacy_Rate_Male[\"value\"] >= 0)]\n",
    "LRF_All = Literacy_Rate_Female.loc[(Literacy_Rate_Female['value'] >=0)]\n",
    "\n",
    "#find the rows with the most recent data\n",
    "LRM_recent = LRM_All.sort_values(\"date\", ascending = False).drop_duplicates([\"country\"])\n",
    "LRM_recent[\"date\"] = LRM_recent.date.astype(str)\n",
    "\n",
    "LRF_recent = LRF_All.sort_values('date', ascending = False).drop_duplicates(['country'])\n",
    "LRF_recent['date'] = LRF_All.date.astype(str)"
   ]
  },
  {
   "cell_type": "code",
   "execution_count": null,
   "metadata": {},
   "outputs": [],
   "source": [
    "LRM15_worst15 = pd.merge( CPIA_worst15, LRM_recent, how = \"left\", left_on = [\"country\"], right_on = [\"country\"])\n",
    "LRF15_worst15 = pd.merge( CPIA_worst15, LRF_recent, how = 'left', left_on = [\"country\"], right_on = [\"country\"])"
   ]
  },
  {
   "cell_type": "code",
   "execution_count": null,
   "metadata": {},
   "outputs": [],
   "source": [
    "#Make arrays of needed columns\n",
    "LRM15 = LRM15_worst15.value_y.values\n",
    "LRF15 = LRF15_worst15.value_y.values\n",
    "Countries = LRM15_worst15.country_code_y.values\n",
    "\n",
    "N = len(Countries) #setting x axes\n",
    "ind = np.arange(N) \n",
    "width = 0.4        #width of the bars\n",
    "\n",
    "p1 = plt.bar(ind, LRM15, width, label = 'Male', color='blue')\n",
    "p2 = plt.bar(ind, LRF15, width, bottom=LRM15, label = 'Female', color='pink')\n",
    "\n",
    "plt.xticks(ind, Countries) #naming the bars\n",
    "plt.ylabel ('Literacy rate')\n",
    "plt.xlabel ('country')\n",
    "plt.title ('Literacy rate per sex per country')\n",
    "\n",
    "plt.legend()\n",
    "plt.show()"
   ]
  },
  {
   "cell_type": "code",
   "execution_count": null,
   "metadata": {},
   "outputs": [],
   "source": [
    "def select_year():\n",
    "    years = GPI.loc[(GPI['date'] >= 2007) & (GPI['date'] <= 2017)]\n",
    "\n",
    "    years_worst = years[years.country.isin(list(CPIA_worst15.country))]\n",
    "    years_worst_sorted = years_worst.sort_values(by='date',ascending=True)\n",
    "    \n",
    "    for i in years_worst_sorted.country.unique():\n",
    "        years_worst_sorted.loc[years_worst_sorted['country'] == i]  = years_worst_sorted.loc[(years_worst_sorted['country'] == i)].ffill().bfill()\n",
    "    return years_worst_sorted\n",
    "\n",
    "GPI_years = select_year()"
   ]
  },
  {
   "cell_type": "code",
   "execution_count": null,
   "metadata": {},
   "outputs": [],
   "source": [
    "def graph(dataframe, title_graph, x_label, y_label):\n",
    "    # Visualising changes over time per indicator\n",
    "\n",
    "    fig,ax = plt.subplots(figsize=(30, 15))\n",
    "\n",
    "    for name in dataframe[\"country\"].unique():\n",
    "        ax.plot(dataframe[dataframe.country==name].date,dataframe[dataframe.country==name].value,label=name)\n",
    "\n",
    "    #change size and location of legend\n",
    "    ax.legend(loc=(1.1, 0.2), fontsize = 'xx-large')\n",
    "\n",
    "    #values of the x and y axis\n",
    "    plt.xticks(rotation = 65, fontsize = 20)\n",
    "    plt.yticks(fontsize = 20)\n",
    "\n",
    "    #labels of the x and y axis \n",
    "    plt.title(title_graph, fontsize = 30)\n",
    "    plt.xlabel(x_label, fontsize = 25)\n",
    "    plt.ylabel(y_label, fontsize = 25)\n",
    "    \n",
    "graph(GPI_years, 'GPI over time', \"year\", \"percentage\")"
   ]
  }
 ],
 "metadata": {
  "kernelspec": {
   "display_name": "Python 3",
   "language": "python",
   "name": "python3"
  },
  "language_info": {
   "codemirror_mode": {
    "name": "ipython",
    "version": 3
   },
   "file_extension": ".py",
   "mimetype": "text/x-python",
   "name": "python",
   "nbconvert_exporter": "python",
   "pygments_lexer": "ipython3",
   "version": "3.6.5"
  }
 },
 "nbformat": 4,
 "nbformat_minor": 2
}
