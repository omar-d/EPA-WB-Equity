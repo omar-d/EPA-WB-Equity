{
 "cells": [
  {
   "cell_type": "markdown",
   "metadata": {},
   "source": [
    "Deelvraag 1:\n",
    "Forced marriage\n",
    "- total amount of forced marriages\n",
    "- top 3 countries"
   ]
  },
  {
   "cell_type": "code",
   "execution_count": 1,
   "metadata": {},
   "outputs": [],
   "source": [
    "%matplotlib inline\n",
    "import pandas as pd\n",
    "import numpy as np\n",
    "import matplotlib.pyplot as plt"
   ]
  },
  {
   "cell_type": "code",
   "execution_count": 2,
   "metadata": {},
   "outputs": [],
   "source": [
    "import wbdata"
   ]
  },
  {
   "cell_type": "markdown",
   "metadata": {},
   "source": [
    "Databases pulled from indicator (2)\n",
    "\n",
    "SG.LAW.CHMR             --> Law prohibits or invalidates child or early marriage (1=yes; 0=no)\n",
    "\n",
    "Moet deze erin? SH.FPL.SATM.ZS         --> Demand for family planning satisfied by modern methods (% of married women with demand for family planning)\n",
    "SP.UWT.TFRT            --> Unmet need for contraception (% of married women ages 15-49)\n",
    "\n",
    "SP.M18.2024.FE.ZS        \tWomen who were first married by age 18 (% of women ages 20-24)\n",
    "\n",
    "SP.M15.2024.FE.ZS        \tWomen who were first married by age 15 (% of women ages 20-24)\n",
    "\n",
    "SH.FPL.FMAR.Q5.ZS     \tMedian age at first marriage (women ages 25-49): Q5 (highest)\n",
    "\n",
    "SH.FPL.FMAR.Q4.ZS     \tMedian age at first marriage (women ages 25-49): Q4\n",
    "\n",
    "SH.FPL.FMAR.Q3.ZS     \tMedian age at first marriage (women ages 25-49): Q3\n",
    "\n",
    "SH.FPL.FMAR.Q2.ZS     \tMedian age at first marriage (women ages 25-49): Q2\n",
    "\n",
    "SH.FPL.FMAR.Q1.ZS     \tMedian age at first marriage (women ages 25-49): Q1 (lowest)\n",
    "\n",
    "SP.DYN.SMAM.MA        \tMean age at first marriage, male\n",
    "\n",
    "SP.DYN.SMAM.FE        \tMean age at first marriage, female\n",
    "\n",
    "SG.LAW.OBHB.MR           \tMarried women are required by law to obey their husbands (1=yes; 0=no)"
   ]
  },
  {
   "cell_type": "code",
   "execution_count": null,
   "metadata": {},
   "outputs": [],
   "source": [
    "#Gender inequality --> niet in deze deelvraag\n",
    "#IQ.CPA.GNDR.XQ           \tCPIA gender equality rating (1=low to 6=high)\n",
    "#5.51.01.07.gender            \tGender equality"
   ]
  },
  {
   "cell_type": "code",
   "execution_count": 11,
   "metadata": {},
   "outputs": [],
   "source": [
    "#wbdata.search_indicators(\"gdp per capita\")\n",
    "#NY.GDP.PCAP.PP.CD is the GDP per capita, PPP (current international $)\n"
   ]
  },
  {
   "cell_type": "code",
   "execution_count": 20,
   "metadata": {},
   "outputs": [],
   "source": [
    "#from this source data was derived on marriages. \n",
    "#wbdata.get_indicator(source=2) "
   ]
  },
  {
   "cell_type": "code",
   "execution_count": 34,
   "metadata": {},
   "outputs": [],
   "source": [
    "GDP = pd.DataFrame(wbdata.get_data(\"NY.GDP.PCAP.PP.CD\"))\n",
    "GDP['country'] = GDP.country.astype(str).str.slice(23,-2)\n",
    "GDP['indicator'] = GDP.indicator.astype(str).str.slice(35,-2)\n",
    "GDP['value'] = GDP.value.astype(float).round(1)"
   ]
  },
  {
   "cell_type": "code",
   "execution_count": 44,
   "metadata": {},
   "outputs": [],
   "source": [
    "# countries = [i['id'] for i in wbdata.get_country(incomelevel=\"\", display=False)]\n",
    "# indicators = {\"SG.LAW.CHMR\": \"Law\", \"SP.UWT.TFRT\": \"Contraception\", \"SP.M18.2024.FE.ZS\":\"Women married by age of 18\",\n",
    "#               \"SP.M15.2024.FE.ZS\": \"Women married by age of 15\", \"SH.FPL.FMAR.Q5.ZS\": \"Median age at first marriage (highest)\",\n",
    "#               \"SP.DYN.SMAM.MA\": \"Mean age at first marriage, men\", \"SP.DYN.SMAM.FE\": \"Mean age at first marriage, women\",\n",
    "#              \"SG.LAW.OBHB.MR\": \"Married women are obligated by law to obey their husband\"}\n",
    "Law = pd.DataFrame(wbdata.get_data(\"SG.LAW.CHMR\"))\n",
    "Law['country'] = Law.country.astype(str).str.slice(23,-2)\n",
    "Law['indicator'] = Law.indicator.astype(str).str.slice(35,-2)\n",
    "Law['value'] = Law.value.astype(float).round(1)"
   ]
  },
  {
   "cell_type": "code",
   "execution_count": 9,
   "metadata": {},
   "outputs": [],
   "source": [
    "Contraception = pd.DataFrame(wbdata.get_data(\"SP.UWT.TFRT\"))\n",
    "Contraception['country'] = Contraception.country.astype(str).str.slice(23,-2)\n",
    "Contraception['indicator'] = Contraception.indicator.astype(str).str.slice(35,-2)\n",
    "Contraception['value'] = Contraception.value.astype(float).round(1)"
   ]
  },
  {
   "cell_type": "code",
   "execution_count": 18,
   "metadata": {},
   "outputs": [],
   "source": [
    "married18 = pd.DataFrame(wbdata.get_data(\"SP.M15.2024.FE.ZS\"))\n",
    "married18['country'] = married18.country.astype(str).str.slice(23,-2)\n",
    "married18['indicator'] = married18.indicator.astype(str).str.slice(35,-2)\n",
    "married18['value'] = married18.value.astype(float).round(1)"
   ]
  },
  {
   "cell_type": "code",
   "execution_count": 47,
   "metadata": {},
   "outputs": [],
   "source": [
    "married15 = pd.DataFrame(wbdata.get_data(\"SH.FPL.FMAR.Q5.ZS\"))\n",
    "married15['country'] = married15.country.astype(str).str.slice(23,-2)\n",
    "married15['indicator'] = married15.indicator.astype(str).str.slice(35,-2)\n",
    "married15['value'] = married15.value.astype(float).round(1)"
   ]
  },
  {
   "cell_type": "code",
   "execution_count": 48,
   "metadata": {},
   "outputs": [],
   "source": [
    "dataframes = [Law, Contraception, married18, married15]\n",
    "allIndicators = pd.concat(dataframes)"
   ]
  },
  {
   "cell_type": "code",
   "execution_count": null,
   "metadata": {},
   "outputs": [],
   "source": []
  }
 ],
 "metadata": {
  "kernelspec": {
   "display_name": "Python 3",
   "language": "python",
   "name": "python3"
  },
  "language_info": {
   "codemirror_mode": {
    "name": "ipython",
    "version": 3
   },
   "file_extension": ".py",
   "mimetype": "text/x-python",
   "name": "python",
   "nbconvert_exporter": "python",
   "pygments_lexer": "ipython3",
   "version": "3.6.5"
  }
 },
 "nbformat": 4,
 "nbformat_minor": 2
}
