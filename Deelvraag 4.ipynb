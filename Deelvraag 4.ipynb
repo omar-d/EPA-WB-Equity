{
 "cells": [
  {
   "cell_type": "code",
   "execution_count": 1,
   "metadata": {},
   "outputs": [],
   "source": [
    "# import World Bank data\n",
    "import wbdata\n",
    "import numpy as np\n",
    "import pandas as pd\n",
    "import matplotlib.pyplot as plt\n",
    "from scipy import stats\n"
   ]
  },
  {
   "cell_type": "code",
   "execution_count": 3,
   "metadata": {},
   "outputs": [],
   "source": [
    "#import csv van 15 slechtse landen\n",
    "CPIA_worst15 = pd.read_csv(\"CPIA_worst15.csv\")\n",
    "CPIA_worst15[\"date\"] = CPIA_worst15[\"date\"].astype(int)\n",
    "#CPIA_worst15"
   ]
  },
  {
   "cell_type": "code",
   "execution_count": 4,
   "metadata": {},
   "outputs": [
    {
     "name": "stdout",
     "output_type": "stream",
     "text": [
      "11\tAfrica Development Indicators\n",
      "36\tStatistical Capacity Indicators\n",
      "31\tCountry Policy and Institutional Assessment\n",
      "41\tCountry Partnership Strategy for India (FY2013 - 17)\n",
      "1 \tDoing Business\n",
      "30\tExporter Dynamics Database ��� Indicators at Country-Year Level\n",
      "12\tEducation Statistics\n",
      "60\tEconomic Fitness\n",
      "13\tEnterprise Surveys\n",
      "28\tGlobal Financial Inclusion\n",
      "33\tG20 Financial Inclusion Indicators\n",
      "14\tGender Statistics\n",
      "15\tGlobal Economic Monitor\n",
      "27\tGlobal Economic Prospects\n",
      "32\tGlobal Financial Development\n",
      "34\tGlobal Partnership for Education\n",
      "29\tThe Atlas of Social Protection: Indicators of Resilience and Equity\n",
      "63\tHuman Capital Index\n",
      "16\tHealth Nutrition and Population Statistics\n",
      "39\tHealth Nutrition and Population Statistics by Wealth Quintile\n",
      "40\tPopulation estimates and projections\n",
      "62\tInternational Comparison Program (ICP) 2011\n",
      "18\tIDA Results Measurement System\n",
      "45\tIndonesia Database for Policy and Economic Research\n",
      "6 \tInternational Debt Statistics\n",
      "54\tJoint External Debt Hub\n",
      "25\tJobs\n",
      "37\tLAC Equity Lab\n",
      "19\tMillennium Development Goals\n",
      "24\tPoverty and Equity\n",
      "61\tPPPs Regulatory Quality\n",
      "20\tQuarterly Public Sector Debt\n",
      "23\tQuarterly External Debt Statistics GDDS\n",
      "22\tQuarterly External Debt Statistics SDDS\n",
      "44\tReadiness for Investment in Sustainable Energy\n",
      "46\tSustainable Development Goals \n",
      "35\tSustainable Energy for All\n",
      "5 \tSubnational Malnutrition Database\n",
      "38\tSubnational Poverty\n",
      "50\tSubnational Population\n",
      "58\tUniversal Health Coverage\n",
      "59\tWealth Accounts\n",
      "43\tAdjusted Net Savings\n",
      "57\tWDI Database Archives\n",
      "2 \tWorld Development Indicators\n",
      "3 \tWorldwide Governance Indicators\n"
     ]
    }
   ],
   "source": [
    "wbdata.get_source()"
   ]
  },
  {
   "cell_type": "code",
   "execution_count": 5,
   "metadata": {},
   "outputs": [
    {
     "name": "stdout",
     "output_type": "stream",
     "text": [
      "16\tHealth Nutrition and Population Statistics\n"
     ]
    }
   ],
   "source": [
    "wbdata.get_source(16)"
   ]
  },
  {
   "cell_type": "code",
   "execution_count": null,
   "metadata": {},
   "outputs": [],
   "source": [
    "#Indicators\n",
    "# HD.HCI.EYRS.MA   Expected Years of School, Male\n",
    "# HD.HCI.EYRS.FE   Expected Years of School, Female\n",
    "# HD.HCI.EYRS      Expected Years of School\n",
    "# HD.HCI.OVRL.MA   Human Capital Index (HCI), Male (scale 0-1)\n",
    "# HD.HCI.OVRL.FE   Human Capital Index (HCI), Female (scale 0-1)"
   ]
  },
  {
   "cell_type": "code",
   "execution_count": 6,
   "metadata": {},
   "outputs": [],
   "source": [
    "def clean(dataset):\n",
    "    #create data frame\n",
    "    name = pd.DataFrame(wbdata.get_data(dataset))\n",
    "    \n",
    "    #clean the date\n",
    "    name['country_code'] = name.country.astype(str).str.slice(8,10)\n",
    "    name['country'] = name.country.astype(str).str.slice(23,-2)\n",
    "    name['indicator'] = name.indicator.astype(str).str.slice(35,-2)\n",
    "    name[\"date\"] = name[\"date\"].astype(int) \n",
    "    name[\"value\"] = name[\"value\"].astype(float).round(2)\n",
    "    \n",
    "    CPIA_worst15 = pd.read_csv(\"CPIA_worst15.csv\")\n",
    "    CPIA_worst15[\"date\"] = CPIA_worst15[\"date\"].astype(int) \n",
    "    \n",
    "    years = name.loc[(name['date'] >= 2007) & (name['date'] <= 2017)]\n",
    "\n",
    "    years_worst = years[years.country.isin(list(CPIA_worst15.country))]\n",
    "    years_worst_sorted = years_worst.sort_values(by='date',ascending=True)\n",
    "    \n",
    "    for i in years_worst_sorted.country.unique():\n",
    "        years_worst_sorted.loc[years_worst_sorted['country'] == i]  = years_worst_sorted.loc[(years_worst_sorted['country'] == i)].ffill().bfill()\n",
    "    return years_worst_sorted"
   ]
  }
 ],
 "metadata": {
  "kernelspec": {
   "display_name": "Python 3",
   "language": "python",
   "name": "python3"
  },
  "language_info": {
   "codemirror_mode": {
    "name": "ipython",
    "version": 3
   },
   "file_extension": ".py",
   "mimetype": "text/x-python",
   "name": "python",
   "nbconvert_exporter": "python",
   "pygments_lexer": "ipython3",
   "version": "3.6.5"
  }
 },
 "nbformat": 4,
 "nbformat_minor": 2
}
