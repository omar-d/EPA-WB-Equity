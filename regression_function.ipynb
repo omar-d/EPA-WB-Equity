{
 "cells": [
  {
   "cell_type": "code",
   "execution_count": 2,
   "metadata": {},
   "outputs": [],
   "source": [
    "def regression(x , y):\n",
    "    model = LinearRegression(fit_intercept=True)\n",
    "    model.fit(x[:,np.newaxis], y)\n",
    "    xfit = x\n",
    "    yfit = model.predict(xfit[:, np.newaxis])\n",
    "    plt.scatter(x, y)\n",
    "    plt.plot(xfit,yfit)\n",
    "    \n",
    "    linregress((x, y))\n",
    "    print(linregress((CPIA_worst15_2007_2017['value']), GDP_Y))\n",
    "    return"
   ]
  },
  {
   "cell_type": "code",
   "execution_count": null,
   "metadata": {},
   "outputs": [],
   "source": []
  }
 ],
 "metadata": {
  "kernelspec": {
   "display_name": "Python 3",
   "language": "python",
   "name": "python3"
  },
  "language_info": {
   "codemirror_mode": {
    "name": "ipython",
    "version": 3
   },
   "file_extension": ".py",
   "mimetype": "text/x-python",
   "name": "python",
   "nbconvert_exporter": "python",
   "pygments_lexer": "ipython3",
   "version": "3.6.5"
  }
 },
 "nbformat": 4,
 "nbformat_minor": 2
}
