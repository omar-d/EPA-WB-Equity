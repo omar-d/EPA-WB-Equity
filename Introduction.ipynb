{
 "cells": [
  {
   "cell_type": "markdown",
   "metadata": {},
   "source": [
    "# Introduction\n",
    "\n",
    "Globally, women earn 77 cents for every dollar that me earn doing the same work. Second, up to 7 out of 10 women around the world experience physical and/or sexual violence at some point in their lifetime. Thirdly, less than 20 percent of the world's landholders are women. Furthermore, 750 million women and girls were married before their 18th birthday. Moreover, two thirds of the countries in the devoloping world have achieved gender parity in primary education. Lastly, only 22.8 percent of all national parliamentarians were women as of June 2016, up from 11.3 percent in 1995 (UNDP, n.d.). \n",
    "\n",
    "Due to this inequality, the United Nations Development Programme if focussing on Gender Equality. It is its fifth sustainable development goal (SDG) that was set up in 2017. This goal is set out to make sure all forms of discrimination against girls and women are ended. Over time, it has been proven that empowering women and girls has a multiplier effect on economic growth and developments across the board (United Nations, 2017). \n",
    "\n",
    "Doel van dit onderzoek?\n",
    "- De huidige stand van zaken?\n",
    "- Effect van de maatregelen van UNDP? --> extrapoleren\n",
    "- Effect van ons beleid? --> voorspelling\n",
    "\n",
    "\n",
    "Hoofdvraag\n"
   ]
  },
  {
   "cell_type": "markdown",
   "metadata": {},
   "source": [
    "# Sources\n",
    "United Nations. (2017). UNDP Strategic Plan, 2018-2021. Executive Board of the United Nations development Program, the United Nations Ppulation Fund and the United Nations Office for Project Services. http://undocs.org/DP/2017/38\n",
    "\n"
   ]
  },
  {
   "cell_type": "code",
   "execution_count": null,
   "metadata": {},
   "outputs": [],
   "source": []
  }
 ],
 "metadata": {
  "kernelspec": {
   "display_name": "Python 3",
   "language": "python",
   "name": "python3"
  },
  "language_info": {
   "codemirror_mode": {
    "name": "ipython",
    "version": 3
   },
   "file_extension": ".py",
   "mimetype": "text/x-python",
   "name": "python",
   "nbconvert_exporter": "python",
   "pygments_lexer": "ipython3",
   "version": "3.6.5"
  }
 },
 "nbformat": 4,
 "nbformat_minor": 2
}
