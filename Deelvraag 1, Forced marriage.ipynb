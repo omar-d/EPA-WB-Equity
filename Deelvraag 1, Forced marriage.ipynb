{
 "cells": [
  {
   "cell_type": "markdown",
   "metadata": {},
   "source": [
    "Deelvraag 1:\n",
    "Forced marriage\n",
    "- total amount of forced marriages\n",
    "- top 3 countries"
   ]
  },
  {
   "cell_type": "code",
   "execution_count": 5,
   "metadata": {},
   "outputs": [],
   "source": [
    "%matplotlib inline\n",
    "import pandas as pd\n",
    "import numpy as np\n",
    "import matplotlib.pyplot as plt"
   ]
  },
  {
   "cell_type": "code",
   "execution_count": 3,
   "metadata": {},
   "outputs": [],
   "source": [
    "import wbdata"
   ]
  },
  {
   "cell_type": "markdown",
   "metadata": {},
   "source": [
    "Databases pulled from indicator (2)\n",
    "\n",
    "SG.LAW.CHMR             --> Law prohibits or invalidates child or early marriage (1=yes; 0=no)\n",
    "\n",
    "Moet deze erin? SH.FPL.SATM.ZS         --> Demand for family planning satisfied by modern methods (% of married women with demand for family planning)\n",
    "SP.UWT.TFRT            --> Unmet need for contraception (% of married women ages 15-49)\n",
    "\n",
    "SP.M18.2024.FE.ZS        \tWomen who were first married by age 18 (% of women ages 20-24)\n",
    "\n",
    "SP.M15.2024.FE.ZS        \tWomen who were first married by age 15 (% of women ages 20-24)\n",
    "\n",
    "SH.FPL.FMAR.Q5.ZS     \tMedian age at first marriage (women ages 25-49): Q5 (highest)\n",
    "\n",
    "SH.FPL.FMAR.Q4.ZS     \tMedian age at first marriage (women ages 25-49): Q4\n",
    "\n",
    "SH.FPL.FMAR.Q3.ZS     \tMedian age at first marriage (women ages 25-49): Q3\n",
    "\n",
    "SH.FPL.FMAR.Q2.ZS     \tMedian age at first marriage (women ages 25-49): Q2\n",
    "\n",
    "SH.FPL.FMAR.Q1.ZS     \tMedian age at first marriage (women ages 25-49): Q1 (lowest)\n",
    "\n",
    "SP.DYN.SMAM.MA        \tMean age at first marriage, male\n",
    "\n",
    "SP.DYN.SMAM.FE        \tMean age at first marriage, female\n",
    "\n",
    "SG.LAW.OBHB.MR           \tMarried women are required by law to obey their husbands (1=yes; 0=no)"
   ]
  },
  {
   "cell_type": "code",
   "execution_count": null,
   "metadata": {},
   "outputs": [],
   "source": [
    "#Gender inequality --> niet in deze deelvraag\n",
    "#IQ.CPA.GNDR.XQ           \tCPIA gender equality rating (1=low to 6=high)\n",
    "#5.51.01.07.gender            \tGender equality"
   ]
  },
  {
   "cell_type": "code",
   "execution_count": 11,
   "metadata": {},
   "outputs": [],
   "source": [
    "#wbdata.search_indicators(\"gdp per capita\")\n",
    "#NY.GDP.PCAP.PP.CD is the GDP per capita, PPP (current international $)\n"
   ]
  },
  {
   "cell_type": "code",
   "execution_count": 20,
   "metadata": {},
   "outputs": [],
   "source": [
    "#from this source data was derived on marriages. \n",
    "#wbdata.get_indicator(source=2) "
   ]
  },
  {
   "cell_type": "code",
   "execution_count": 53,
   "metadata": {},
   "outputs": [
    {
     "ename": "AttributeError",
     "evalue": "module 'wbdata' has no attribute 'get_gdpp'",
     "output_type": "error",
     "traceback": [
      "\u001b[1;31m---------------------------------------------------------------------------\u001b[0m",
      "\u001b[1;31mAttributeError\u001b[0m                            Traceback (most recent call last)",
      "\u001b[1;32m<ipython-input-53-5b85324f9f52>\u001b[0m in \u001b[0;36m<module>\u001b[1;34m()\u001b[0m\n\u001b[1;32m----> 1\u001b[1;33m \u001b[0mwbdata\u001b[0m\u001b[1;33m.\u001b[0m\u001b[0mget_gdpp\u001b[0m\u001b[1;33m(\u001b[0m\u001b[1;33m)\u001b[0m\u001b[1;33m\u001b[0m\u001b[0m\n\u001b[0m",
      "\u001b[1;31mAttributeError\u001b[0m: module 'wbdata' has no attribute 'get_gdpp'"
     ]
    }
   ],
   "source": [
    "wbdata.get_gdpp()"
   ]
  },
  {
   "cell_type": "code",
   "execution_count": 51,
   "metadata": {},
   "outputs": [
    {
     "ename": "IndexError",
     "evalue": "list index out of range",
     "output_type": "error",
     "traceback": [
      "\u001b[1;31m---------------------------------------------------------------------------\u001b[0m",
      "\u001b[1;31mIndexError\u001b[0m                                Traceback (most recent call last)",
      "\u001b[1;32m<ipython-input-51-845e0ba98ab8>\u001b[0m in \u001b[0;36m<module>\u001b[1;34m()\u001b[0m\n\u001b[0;32m      4\u001b[0m               \u001b[1;34m\"SP.DYN.SMAM.MA\"\u001b[0m\u001b[1;33m:\u001b[0m \u001b[1;34m\"Mean age at first marriage, men\"\u001b[0m\u001b[1;33m,\u001b[0m \u001b[1;34m\"SP.DYN.SMAM.FE\"\u001b[0m\u001b[1;33m:\u001b[0m \u001b[1;34m\"Mean age at first marriage, women\"\u001b[0m\u001b[1;33m,\u001b[0m\u001b[1;33m\u001b[0m\u001b[0m\n\u001b[0;32m      5\u001b[0m              \"SG.LAW.OBHB.MR\": \"Married women are obligated by law to obey their husband\"}\n\u001b[1;32m----> 6\u001b[1;33m \u001b[0mdf\u001b[0m \u001b[1;33m=\u001b[0m \u001b[0mwbdata\u001b[0m\u001b[1;33m.\u001b[0m\u001b[0mget_dataframe\u001b[0m\u001b[1;33m(\u001b[0m\u001b[0mindicators\u001b[0m\u001b[1;33m,\u001b[0m \u001b[0mcountry\u001b[0m \u001b[1;33m=\u001b[0m \u001b[0mcountries\u001b[0m\u001b[1;33m,\u001b[0m \u001b[0mconvert_date\u001b[0m\u001b[1;33m=\u001b[0m\u001b[1;32mTrue\u001b[0m\u001b[1;33m)\u001b[0m\u001b[1;33m\u001b[0m\u001b[0m\n\u001b[0m\u001b[0;32m      7\u001b[0m \u001b[0mdf\u001b[0m\u001b[1;33m\u001b[0m\u001b[0m\n",
      "\u001b[1;32m<decorator-gen-128>\u001b[0m in \u001b[0;36mget_dataframe\u001b[1;34m(indicators, country, data_date, convert_date, keep_levels)\u001b[0m\n",
      "\u001b[1;32m~\\Anaconda3\\lib\\site-packages\\wbdata\\api.py\u001b[0m in \u001b[0;36muses_pandas\u001b[1;34m(f, *args, **kwargs)\u001b[0m\n\u001b[0;32m     51\u001b[0m     \u001b[1;32mif\u001b[0m \u001b[1;32mnot\u001b[0m \u001b[0mpd\u001b[0m\u001b[1;33m:\u001b[0m\u001b[1;33m\u001b[0m\u001b[0m\n\u001b[0;32m     52\u001b[0m         \u001b[1;32mraise\u001b[0m \u001b[0mValueError\u001b[0m\u001b[1;33m(\u001b[0m\u001b[1;34m\"Pandas must be installed to be used\"\u001b[0m\u001b[1;33m)\u001b[0m\u001b[1;33m\u001b[0m\u001b[0m\n\u001b[1;32m---> 53\u001b[1;33m     \u001b[1;32mreturn\u001b[0m \u001b[0mf\u001b[0m\u001b[1;33m(\u001b[0m\u001b[1;33m*\u001b[0m\u001b[0margs\u001b[0m\u001b[1;33m,\u001b[0m \u001b[1;33m**\u001b[0m\u001b[0mkwargs\u001b[0m\u001b[1;33m)\u001b[0m\u001b[1;33m\u001b[0m\u001b[0m\n\u001b[0m\u001b[0;32m     54\u001b[0m \u001b[1;33m\u001b[0m\u001b[0m\n\u001b[0;32m     55\u001b[0m \u001b[1;33m\u001b[0m\u001b[0m\n",
      "\u001b[1;32m~\\Anaconda3\\lib\\site-packages\\wbdata\\api.py\u001b[0m in \u001b[0;36mget_dataframe\u001b[1;34m(indicators, country, data_date, convert_date, keep_levels)\u001b[0m\n\u001b[0;32m    414\u001b[0m     to_df = {indicators[i]: get_data(i, country, data_date, convert_date,\n\u001b[0;32m    415\u001b[0m                                      pandas=True, keep_levels=keep_levels)\n\u001b[1;32m--> 416\u001b[1;33m              for i in indicators}\n\u001b[0m\u001b[0;32m    417\u001b[0m     \u001b[1;32mreturn\u001b[0m \u001b[0mpd\u001b[0m\u001b[1;33m.\u001b[0m\u001b[0mDataFrame\u001b[0m\u001b[1;33m(\u001b[0m\u001b[0mto_df\u001b[0m\u001b[1;33m)\u001b[0m\u001b[1;33m\u001b[0m\u001b[0m\n\u001b[0;32m    418\u001b[0m \u001b[1;33m\u001b[0m\u001b[0m\n",
      "\u001b[1;32m~\\Anaconda3\\lib\\site-packages\\wbdata\\api.py\u001b[0m in \u001b[0;36m<dictcomp>\u001b[1;34m(.0)\u001b[0m\n\u001b[0;32m    414\u001b[0m     to_df = {indicators[i]: get_data(i, country, data_date, convert_date,\n\u001b[0;32m    415\u001b[0m                                      pandas=True, keep_levels=keep_levels)\n\u001b[1;32m--> 416\u001b[1;33m              for i in indicators}\n\u001b[0m\u001b[0;32m    417\u001b[0m     \u001b[1;32mreturn\u001b[0m \u001b[0mpd\u001b[0m\u001b[1;33m.\u001b[0m\u001b[0mDataFrame\u001b[0m\u001b[1;33m(\u001b[0m\u001b[0mto_df\u001b[0m\u001b[1;33m)\u001b[0m\u001b[1;33m\u001b[0m\u001b[0m\n\u001b[0;32m    418\u001b[0m \u001b[1;33m\u001b[0m\u001b[0m\n",
      "\u001b[1;32m~\\Anaconda3\\lib\\site-packages\\wbdata\\api.py\u001b[0m in \u001b[0;36mget_data\u001b[1;34m(indicator, country, data_date, convert_date, pandas, column_name, keep_levels)\u001b[0m\n\u001b[0;32m    165\u001b[0m         \u001b[1;32melse\u001b[0m\u001b[1;33m:\u001b[0m\u001b[1;33m\u001b[0m\u001b[0m\n\u001b[0;32m    166\u001b[0m             \u001b[0margs\u001b[0m\u001b[1;33m.\u001b[0m\u001b[0mappend\u001b[0m\u001b[1;33m(\u001b[0m\u001b[1;33m(\u001b[0m\u001b[1;34m\"date\"\u001b[0m\u001b[1;33m,\u001b[0m \u001b[0mdata_date\u001b[0m\u001b[1;33m.\u001b[0m\u001b[0mstrftime\u001b[0m\u001b[1;33m(\u001b[0m\u001b[1;34m\"%Y\"\u001b[0m\u001b[1;33m)\u001b[0m\u001b[1;33m)\u001b[0m\u001b[1;33m)\u001b[0m\u001b[1;33m\u001b[0m\u001b[0m\n\u001b[1;32m--> 167\u001b[1;33m     \u001b[0mdata\u001b[0m \u001b[1;33m=\u001b[0m \u001b[0mfetcher\u001b[0m\u001b[1;33m.\u001b[0m\u001b[0mfetch\u001b[0m\u001b[1;33m(\u001b[0m\u001b[0mquery_url\u001b[0m\u001b[1;33m,\u001b[0m \u001b[0margs\u001b[0m\u001b[1;33m)\u001b[0m\u001b[1;33m\u001b[0m\u001b[0m\n\u001b[0m\u001b[0;32m    168\u001b[0m     \u001b[1;32mif\u001b[0m \u001b[0mconvert_date\u001b[0m\u001b[1;33m:\u001b[0m\u001b[1;33m\u001b[0m\u001b[0m\n\u001b[0;32m    169\u001b[0m         \u001b[0mdata\u001b[0m \u001b[1;33m=\u001b[0m \u001b[0mconvert_dates_to_datetime\u001b[0m\u001b[1;33m(\u001b[0m\u001b[0mdata\u001b[0m\u001b[1;33m)\u001b[0m\u001b[1;33m\u001b[0m\u001b[0m\n",
      "\u001b[1;32m~\\Anaconda3\\lib\\site-packages\\wbdata\\fetcher.py\u001b[0m in \u001b[0;36mfetch\u001b[1;34m(query_url, args, cached)\u001b[0m\n\u001b[0;32m    166\u001b[0m         \u001b[1;32mif\u001b[0m \u001b[0mresponse\u001b[0m \u001b[1;32mis\u001b[0m \u001b[1;32mNone\u001b[0m\u001b[1;33m:\u001b[0m\u001b[1;33m\u001b[0m\u001b[0m\n\u001b[0;32m    167\u001b[0m             \u001b[1;32mraise\u001b[0m \u001b[0mValueError\u001b[0m\u001b[1;33m(\u001b[0m\u001b[1;34m\"Got no response\"\u001b[0m\u001b[1;33m)\u001b[0m\u001b[1;33m\u001b[0m\u001b[0m\n\u001b[1;32m--> 168\u001b[1;33m         \u001b[0mresults\u001b[0m\u001b[1;33m.\u001b[0m\u001b[0mextend\u001b[0m\u001b[1;33m(\u001b[0m\u001b[0mresponse\u001b[0m\u001b[1;33m[\u001b[0m\u001b[1;36m1\u001b[0m\u001b[1;33m]\u001b[0m\u001b[1;33m)\u001b[0m\u001b[1;33m\u001b[0m\u001b[0m\n\u001b[0m\u001b[0;32m    169\u001b[0m         \u001b[0mthis_page\u001b[0m \u001b[1;33m=\u001b[0m \u001b[0mresponse\u001b[0m\u001b[1;33m[\u001b[0m\u001b[1;36m0\u001b[0m\u001b[1;33m]\u001b[0m\u001b[1;33m[\u001b[0m\u001b[1;34m'page'\u001b[0m\u001b[1;33m]\u001b[0m\u001b[1;33m\u001b[0m\u001b[0m\n\u001b[0;32m    170\u001b[0m         \u001b[0mpages\u001b[0m \u001b[1;33m=\u001b[0m \u001b[0mresponse\u001b[0m\u001b[1;33m[\u001b[0m\u001b[1;36m0\u001b[0m\u001b[1;33m]\u001b[0m\u001b[1;33m[\u001b[0m\u001b[1;34m'pages'\u001b[0m\u001b[1;33m]\u001b[0m\u001b[1;33m\u001b[0m\u001b[0m\n",
      "\u001b[1;31mIndexError\u001b[0m: list index out of range"
     ]
    }
   ],
   "source": [
    "countries = [i['id'] for i in wbdata.get_country(incomelevel=\"\", display=False)]\n",
    "indicators = {\"SG.LAW.CHMR\": \"Law\", \"SP.UWT.TFRT\": \"Contraception\", \"SP.M18.2024.FE.ZS\":\"Women married by age of 18\",\n",
    "              \"SP.M15.2024.FE.ZS\": \"Women married by age of 15\", \"SH.FPL.FMAR.Q5.ZS\": \"Median age at first marriage (highest)\",\n",
    "              \"SP.DYN.SMAM.MA\": \"Mean age at first marriage, men\", \"SP.DYN.SMAM.FE\": \"Mean age at first marriage, women\",\n",
    "             \"SG.LAW.OBHB.MR\": \"Married women are obligated by law to obey their husband\"}\n",
    "df = wbdata.get_dataframe(indicators, country = countries, convert_date=True)\n",
    "df\n"
   ]
  },
  {
   "cell_type": "code",
   "execution_count": null,
   "metadata": {},
   "outputs": [],
   "source": []
  }
 ],
 "metadata": {
  "kernelspec": {
   "display_name": "Python 3",
   "language": "python",
   "name": "python3"
  },
  "language_info": {
   "codemirror_mode": {
    "name": "ipython",
    "version": 3
   },
   "file_extension": ".py",
   "mimetype": "text/x-python",
   "name": "python",
   "nbconvert_exporter": "python",
   "pygments_lexer": "ipython3",
   "version": "3.6.5"
  }
 },
 "nbformat": 4,
 "nbformat_minor": 2
}
