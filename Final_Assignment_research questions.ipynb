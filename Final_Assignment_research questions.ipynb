{
 "cells": [
  {
   "cell_type": "code",
   "execution_count": 3,
   "metadata": {},
   "outputs": [
    {
     "name": "stdout",
     "output_type": "stream",
     "text": [
      "11\tAfrica Development Indicators\n",
      "36\tStatistical Capacity Indicators\n",
      "31\tCountry Policy and Institutional Assessment\n",
      "41\tCountry Partnership Strategy for India (FY2013 - 17)\n",
      "1 \tDoing Business\n",
      "30\tExporter Dynamics Database ��� Indicators at Country-Year Level\n",
      "12\tEducation Statistics\n",
      "60\tEconomic Fitness\n",
      "13\tEnterprise Surveys\n",
      "28\tGlobal Financial Inclusion\n",
      "33\tG20 Financial Inclusion Indicators\n",
      "14\tGender Statistics\n",
      "15\tGlobal Economic Monitor\n",
      "27\tGlobal Economic Prospects\n",
      "32\tGlobal Financial Development\n",
      "34\tGlobal Partnership for Education\n",
      "29\tThe Atlas of Social Protection: Indicators of Resilience and Equity\n",
      "63\tHuman Capital Index\n",
      "16\tHealth Nutrition and Population Statistics\n",
      "39\tHealth Nutrition and Population Statistics by Wealth Quintile\n",
      "40\tPopulation estimates and projections\n",
      "62\tInternational Comparison Program (ICP) 2011\n",
      "18\tIDA Results Measurement System\n",
      "45\tIndonesia Database for Policy and Economic Research\n",
      "6 \tInternational Debt Statistics\n",
      "54\tJoint External Debt Hub\n",
      "25\tJobs\n",
      "37\tLAC Equity Lab\n",
      "19\tMillennium Development Goals\n",
      "24\tPoverty and Equity\n",
      "61\tPPPs Regulatory Quality\n",
      "20\tQuarterly Public Sector Debt\n",
      "23\tQuarterly External Debt Statistics GDDS\n",
      "22\tQuarterly External Debt Statistics SDDS\n",
      "44\tReadiness for Investment in Sustainable Energy\n",
      "46\tSustainable Development Goals \n",
      "35\tSustainable Energy for All\n",
      "5 \tSubnational Malnutrition Database\n",
      "38\tSubnational Poverty\n",
      "50\tSubnational Population\n",
      "58\tUniversal Health Coverage\n",
      "59\tWealth Accounts\n",
      "43\tAdjusted Net Savings\n",
      "57\tWDI Database Archives\n",
      "2 \tWorld Development Indicators\n",
      "3 \tWorldwide Governance Indicators\n"
     ]
    }
   ],
   "source": [
    "# first open anaconda prompt --> type in: pip install wbdata\n",
    "\n",
    "# import World Bank data\n",
    "import wbdata\n",
    "wbdata.get_source()"
   ]
  },
  {
   "cell_type": "code",
   "execution_count": null,
   "metadata": {},
   "outputs": [],
   "source": [
    "#per_nprog.overlap_ep_tot      \tPopulation in extreme poor (<$1.25 a day) not receiving Social Protection (%)\n",
    "#per_nprog.overlap_ep_preT_tot \tPopulation in extreme poor (<$1.25 a day) not receiving Social Protection (%, preT)\n"
   ]
  },
  {
   "cell_type": "markdown",
   "metadata": {},
   "source": [
    "# Introduction \n",
    "\n",
    "sustainable development goals \n",
    "what?\n",
    "why?\n",
    "who?\n",
    "\n",
    "goal 5 gender equality\n",
    "what?\n",
    "why?\n",
    "how?\n",
    "\n",
    "goal 5.3 “eliminate all harmful practices, such as child, early and forced marriage and female genital mutilations” by 2030\n",
    "\n",
    "Targets of goal 5.3\n",
    "\n",
    "connection of goal 5.3 with the other sdg goals\n",
    "\n",
    "Research question and sub-questions\n",
    "\n",
    "Research question: \n",
    "Will ending child marriage help with the fight for gender equality?\n",
    "\n",
    "Sub-question:\n",
    "1. Gender equality rating per land :\n",
    "    - Data with non values checken if country is needed for research. if it is search data from other database.\n",
    "    - 10/20 countries with worst rating\n",
    "        - based on 2017\n",
    "    - These countries with worst ratings search the ratings from 2007 till 2017\n",
    "        - no data? Search for the data from other databases and add to the dataframe\n",
    "\n",
    "2. over the past years (2007-2017), has child marriage drop? (marriage before 15 and marriage before 18 (data checking/ fact checking) and if this rate contineous, will goal 5.3 be reached in 2030?(extrapoleren):\n",
    "    - Child marriage percentage per country over time \n",
    "        -How was it in the past\n",
    "        -how is it now\n",
    "        -how will it develop over time    \n",
    "    - marriage before 15\n",
    "    - marriage before 18\n",
    "    - woman who have to obey their husband by law\n",
    "\n",
    "3. What is the economic prospect of these countries? (what are the economic prospects for girls) (poverty goal 1 and 8 and 10) :\n",
    "    - based on GDP (overall)\n",
    "        - past (2007-2016)\n",
    "        - now (2017)\n",
    "        - future (extrapoleren)   \n",
    "    - percentage of woman employement and man employement\n",
    "    - No value? looking in other datasets if we can find these and add them in the dataframe.\n",
    "4. the health of the girls in relation with marriage (goal 3 and 10) :\n",
    "    - teenagers who got pragnent (15-19)\n",
    "        - past (2007-2016)\n",
    "        - now (2017)\n",
    "        - future (extrapoleren) \n",
    "5. education for girls in relation with marriage (goal 4 and 10) :\n",
    "    - percentage of woman in school and man in school\n",
    "        - basis onderwijs\n",
    "            - past (2007-2016)\n",
    "            - now (2017)\n",
    "            - future (extrapoleren)\n",
    "        -doorleren\n",
    "            - past (2007-2016)\n",
    "            - now (2017)\n",
    "            - future (extrapoleren)\n",
    "\n",
    "\n",
    "structure of the paper"
   ]
  },
  {
   "cell_type": "markdown",
   "metadata": {},
   "source": [
    "# Sub question 1:\n",
    "\n",
    "introduction to the subquestion and how to \"solve\" it\n",
    "\n",
    "*code*\n",
    "\n",
    "results\n",
    "\n",
    "subconclusion\n"
   ]
  },
  {
   "cell_type": "markdown",
   "metadata": {},
   "source": [
    "# Sub question 2:\n",
    "\n",
    "introduction to the subquestion and how to \"solve\" it\n",
    "\n",
    "*code*\n",
    "\n",
    "results\n",
    "\n",
    "subconclusion"
   ]
  },
  {
   "cell_type": "markdown",
   "metadata": {},
   "source": [
    "# Sub question 3:\n",
    "\n",
    "introduction to the subquestion and how to \"solve\" it\n",
    "\n",
    "*code*\n",
    "\n",
    "results\n",
    "\n",
    "subconclusion"
   ]
  },
  {
   "cell_type": "markdown",
   "metadata": {},
   "source": [
    "# Sub question 4:\n",
    "\n",
    "introduction to the subquestion and how to \"solve\" it\n",
    "\n",
    "*code*\n",
    "\n",
    "results\n",
    "\n",
    "subconclusion"
   ]
  },
  {
   "cell_type": "markdown",
   "metadata": {},
   "source": [
    "# Sub question 5:\n",
    "\n",
    "introduction to the subquestion and how to \"solve\" it\n",
    "\n",
    "*code*\n",
    "\n",
    "results\n",
    "\n",
    "subconclusion"
   ]
  },
  {
   "cell_type": "markdown",
   "metadata": {},
   "source": [
    "# Conclusion\n",
    "\n",
    "*text*"
   ]
  },
  {
   "cell_type": "markdown",
   "metadata": {},
   "source": [
    "# Discussion\n",
    "\n",
    "*text*"
   ]
  },
  {
   "cell_type": "markdown",
   "metadata": {},
   "source": [
    "# Bibliography\n",
    "\n",
    "*sources*"
   ]
  }
 ],
 "metadata": {
  "kernelspec": {
   "display_name": "Python 3",
   "language": "python",
   "name": "python3"
  },
  "language_info": {
   "codemirror_mode": {
    "name": "ipython",
    "version": 3
   },
   "file_extension": ".py",
   "mimetype": "text/x-python",
   "name": "python",
   "nbconvert_exporter": "python",
   "pygments_lexer": "ipython3",
   "version": "3.6.5"
  }
 },
 "nbformat": 4,
 "nbformat_minor": 2
}
