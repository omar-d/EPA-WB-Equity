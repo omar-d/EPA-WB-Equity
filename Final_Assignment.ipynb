{
 "cells": [
  {
   "cell_type": "code",
   "execution_count": 23,
   "metadata": {},
   "outputs": [
    {
     "data": {
      "text/html": [
       "<img src=\"Logo.png\" width=\"800\" height=\"100\"/>"
      ],
      "text/plain": [
       "<IPython.core.display.Image object>"
      ]
     },
     "execution_count": 23,
     "metadata": {},
     "output_type": "execute_result"
    }
   ],
   "source": [
    "from IPython.display import Image\n",
    "img = 'Logo.png' \n",
    "Image(url=img, width=800, height=100)"
   ]
  },
  {
   "cell_type": "markdown",
   "metadata": {},
   "source": [
    "# Introduction\n",
    "\n",
    "In March 2016, the 47th session of the United Nations (UN) Statistical Commission was organized to develop a framework to conquer the biggest global challenges of the world. During this session the global indicator framework was developed by the Inter-Agency and Expert Group on Sustainable Development Goal Indicators (IAEG-SDGs) and agreed to as possible working tool (DESA, 2018). \n",
    "\n",
    "This framework include “The Sustainable Development Goals”, which are the blueprint to achieve a better and sustainable future for every individual worldwide. The blueprint include 17 goals that cover the global challenges and are interrelated. The main goal is to leave no individual behind. The formulation of several sub-goals within these 17 goals provide specific targets. These targets must be achieved by 2030 (United Nations, 2018). \n",
    "\n",
    "Every year, the status of progression considering the goals is reviewed according to the most up to date data available. The highlights of these data considering progression and remaining gaps were reported in  “The Sustainable Development Goals Report 2018”. In addition the interconnections across goals and targets are examined. In the report of 2018 the main conclusion was that people worldwide have a higher quality of life compared with a decade ago. However, the process on targets to make sure that no individual is left behind is lacking to meet the targets of 2030, which is a  disturbing conclusion (United Nations, 2018b).\n",
    "\n",
    "One of these target goals is about gender equality. Goal five wants to end all forms of discrimination against women and girls. This is not only a basic human right but will also help drive up economic growth and development across the boards (UNDP, 2018). There are still huge inequalities between men and women.\n",
    "\n",
    "Globally, women earn only 77 cents for every dollar a man earns for doing the same work, less than 20% of the world's landholders are women, 7 in 10 women in the world experience physical and/or sexual violence at some point in their life’s and only 22.8% of all national parliamentarians were woman in 2016. However,  that's not all, still 750 million women and girls who are alive today were married before their 18th birthday (UNDP, 2018).\n",
    "\n",
    "Child marriage is the third sub-goal of the gender equality goal. it states: *\"Eliminate all harmful practices such as child, early and forced marriage and female genital mutilation\"*\n",
    "\n",
    "The target is to bring the proportion of women aged 20-24 years who were married or in a union before age 15 and before age 18 to zero (DESA, 2018). 193 countries now, have agreed to end child marriage by 2030. Until than 12 million girls are married before their 18th birthday every year (Girls not Brides, 2018).\n",
    "\n",
    "This target has not only effect on the gender equality target goal, but it is also represented in seven other goals. Child marriage also influences goal one: no poverty, goal two: zero hunger, goal three: good health and wellbeing, goal four: inclusive and quality education, goal eight: economic growth, goal ten: reduce inequalities and goal 16: peace, justice and strong institutions (Girls not Brides, 2018). If child marriage is not eliminated, these goals will not be achieved.\n",
    "\n",
    "Concluded that child marriage has to end, will it actually help to reach gender equality? This research paper will analyse the different goals and assess if there is a correlation between child marriage and the aforementioned  inequalities. The research question will be: *\" Will ending child marriage contribute to gender equality\"?*\n",
    "\n",
    "STRUCTURE OF THE PAGE AND SUBQUESTIONS"
   ]
  },
  {
   "cell_type": "code",
   "execution_count": 1,
   "metadata": {},
   "outputs": [],
   "source": [
    "%matplotlib inline\n",
    "import pandas as pd\n",
    "import numpy as np\n",
    "import matplotlib.pyplot as plt\n",
    "import wbdata"
   ]
  },
  {
   "cell_type": "markdown",
   "metadata": {},
   "source": [
    "# Sub question 1: Gender Equality\n",
    "\n",
    "Gender equality rate van alle landen\n",
    "Introductie wat er in dataset staat.\n",
    "\n",
    "Visualiseren:\n",
    "- World map\n",
    "- Histogram\n",
    "\n",
    "De gemiddelde gender equality rate van elk jaar berekenen en die plotten. Vervolgens die lijn extrapoleren om te kijken of het doel in 2030 wordt gehaald. \n",
    "\n",
    "Subconclusion gender equality rate\n",
    " --> omdat alle landen teveel is om verder te analyseren, nemen we alleen de 15 landen die het slechtste scoren. "
   ]
  },
  {
   "cell_type": "markdown",
   "metadata": {},
   "source": [
    "# Sub question 2: GDP\n",
    "Intro\n",
    "\n",
    "Correlatie tussen GDP en gender equality rate analyseren met behulp van een scatterplot\n",
    "\n",
    "Bar plot van de GDP waarde van 2017 van de 15 slechtste landen. \n",
    "(hier is ook nog missing data, maar niet zeker hoe ik hier mee om ga). \n",
    "\n",
    "Grafiek van de verandering in GDP over de jaren heen. \n",
    "\n",
    "subconclusion"
   ]
  },
  {
   "cell_type": "markdown",
   "metadata": {},
   "source": [
    "# Sub question 3: Child marriages\n",
    "\n",
    "Intro\n",
    "\n",
    "Correlatie tussen child marriages en gender equality rate analyseren met behulp van een scatterplot\n",
    "\n",
    "Aangezien er veel missing data is uit het jaar 2017 zal de data uit het jaar 2014 gebruikt worden. Zal gemerged worden met de dataset van de OECD. \n",
    "Bar plot van de child marriages waarde van 2014 (waar bekend) van de 15 slechtste landen. \n",
    " \n",
    "\n",
    "Grafiek van de verandering in child marriages over de jaren heen. \n",
    "\n",
    "subconclusion"
   ]
  },
  {
   "cell_type": "markdown",
   "metadata": {},
   "source": [
    "# Sub question 4: Education\n",
    "\n",
    "Intro\n",
    "\n",
    "Welke indicator wordt hier gebruikt? Wat is de data die beschikbaar is? Missing data? Op welke manier wordt de value gegeven? In percentages, absolute aantallen?\n",
    "\n",
    "Verschil tussen mannen en vrouw in education. Dit visualiseren met behulp van een bar plot waar bars bovenop elkaar worden geplot. \n",
    "\n",
    "Grafiek van de verandering ontwikkelingen over de jaren heen per land. Met een lijn van man en een lijn van vrouw\n",
    "\n",
    "subconclusion"
   ]
  },
  {
   "cell_type": "markdown",
   "metadata": {},
   "source": [
    "# Sub question 5: Health care\n",
    "\n",
    "Intro\n",
    "\n",
    "Welke indicator is gebruikt?\n",
    "\n",
    "Verschil tussen mannen en vrouw in health care. Dit visualiseren met behulp van een bar plot waar bars bovenop elkaar worden geplot. \n",
    "\n",
    "Grafiek van de verandering ontwikkelingen over de jaren heen per land. Met een lijn van man en een lijn van vrouw\n",
    "\n",
    "subconclusion"
   ]
  },
  {
   "cell_type": "markdown",
   "metadata": {},
   "source": [
    "# Conclusion\n",
    "\n",
    "*text*"
   ]
  },
  {
   "cell_type": "markdown",
   "metadata": {},
   "source": [
    "# Discussion\n",
    "\n",
    "*text*"
   ]
  },
  {
   "cell_type": "markdown",
   "metadata": {},
   "source": [
    "# Bibliography\n",
    "\n",
    "*\n",
    "DESA. (2018). Goal 5 .:. Sustainable Development Knowledge Platform. Retrieved October 23, 2018, from https://sustainabledevelopment.un.org/sdg5\n",
    "*\n",
    "\n",
    "*\n",
    "Girls not Brides. (2018). What is the impact of Child Marriage:. Retrieved October 23, 2018, from https://www.girlsnotbrides.org/themes/sustainable-development-goals-sdgs/\n",
    "*\n",
    "\n",
    "*\n",
    "United Nations. (2018). About the Sustainable Development Goals - United Nations Sustainable Development. Retrieved October 23, 2018, from https://www.un.org/sustainabledevelopment/sustainable-development-goals/\n",
    "*\n",
    "\n",
    "*\n",
    "UNDP. (2018). Goal 5: Gender equality | UNDP. Retrieved October 23, 2018, from http://www.undp.org/content/undp/en/home/sustainable-development-goals/goal-5-gender-equality.html\n",
    "*\n",
    "\n",
    "*\n",
    "United Nations. (2018b). The Sustainable Development Goals Report 2018 (978-92-1-363317-5). Retrieved from https://unstats.un.org/sdgs/files/report/2018/thesustainabledevelopmentgoalsreport2018.pdf\n",
    "*"
   ]
  }
 ],
 "metadata": {
  "kernelspec": {
   "display_name": "Python 3",
   "language": "python",
   "name": "python3"
  },
  "language_info": {
   "codemirror_mode": {
    "name": "ipython",
    "version": 3
   },
   "file_extension": ".py",
   "mimetype": "text/x-python",
   "name": "python",
   "nbconvert_exporter": "python",
   "pygments_lexer": "ipython3",
   "version": "3.6.5"
  }
 },
 "nbformat": 4,
 "nbformat_minor": 2
}
