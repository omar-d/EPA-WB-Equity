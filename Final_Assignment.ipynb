{
 "cells": [
  {
   "cell_type": "code",
   "execution_count": 1,
   "metadata": {},
   "outputs": [],
   "source": [
    "%matplotlib inline\n",
    "import pandas as pd\n",
    "import numpy as np\n",
    "import matplotlib.pyplot as plt\n",
    "import wbdata"
   ]
  },
  {
   "cell_type": "markdown",
   "metadata": {},
   "source": [
    "# Introduction\n",
    "\n",
    "In March 2016, the 47th session of the UN (United Nations) Statistical Commision was held. During this session the global indicator framework was developed by the Inter-Agency and Expert Group on SDG Indicators (IAEG-SDGs) and agreed to (DESA, 2018). \n",
    "\n",
    "This framework are The Sustainable Development Goals. These goals are the blueprint to achieve a better and more sustainable future for all. The goals cover the global challanges and are interconnected. They have as an end goal to leave no human behind. There are 17 goals and each goal has it's own sub-goals with targets. These targets must be achieved by 2030 (United Nations, 2018). \n",
    "\n",
    "The progress of all goals is reviewed based on the latest available data every year. In The Sustainable Development Goals Report 2018 the highlights of progress and remaining gaps are presented. Also the interconnections across Goals and targets are examined. From this years report the conclusion is that people overall are living better lives than they were a decade ago, but the progress on the targets to make sure that no human is left behind, has not been rapid enough to meet the targets of 2030. This is an disturbing conclusion (United Nations, 2018b).\n",
    "\n",
    "One of these goals is about gender equalty. Goal 5 wants to end all forms of discrimination against woman and girls. This is not only a basic human right but will also helps drive up economic growth and development across the boards (UNDP, 2018). There are still huge inequalties between man and woman. *(Woman are systematically denied equal access to jobs, are dealing with sexual violance and exploitation, there is unequal division of unpaid care and domestic work, and discrimination in public office are still huge barriers (UNDP, 2018).)*\n",
    "\n",
    "Globally, woman earn only 77 cents for every dollar a man earns for doing the same work, less than 20% of the world's landholders are women, 7 in 10 woman in the world experience physical and/or sexual violance at some point in their lifes and only 22.8% of all national parliamentarians were woman in 2016. But that's not all, still 750 million woman and girls who are alive today were married before their 18th birthday (UNDP, 2018).\n",
    "\n",
    "Child marriage is the thirth sub-goal of the gender equality goal. it states: *\"Eliminate all harmful practices such as child, early and forced marriage and female genital mutilation\"*\n",
    "the target is to bring the proportion of woman aged 20-24 years who were married or in a union before age 15 and before age 18 to zero (DESA, 2018). 193 countries now, have agreed to end child marriage by 2030. Until than 12 million girls are married before their 18th birthday every year (Girls not Brides, 2018).\n",
    "\n",
    "This target has not only effect on the gender equality goal, but also on seven other goals. Child marriage also infuences goal 1: no poverty, goal 2: zero hunger, goal 3: good health and wellbeing, goal 4: inclusive and quality education, goal 8: economic growth, goal 10: reduce inequalities and goal 16: peace, justice and strong instituations (Girls not Brides, 2018). If child marriage is not eliminated, these goals also can't be met.\n",
    "\n",
    "Concluded that child marriage has to end, will it actually help reach gender equality? This research paper will analyse the different goals and looks if there is correlation between child marriage and these inequalities. The research question will be: *\" Will ending child marriage contribute to gender equility\"*"
   ]
  },
  {
   "cell_type": "markdown",
   "metadata": {},
   "source": [
    "# Sub question 1: Gender Equality\n",
    "\n",
    "Gender equality rate van alle landen\n",
    "Introductie wat er in dataset staat.\n",
    "\n",
    "Visualiseren:\n",
    "- World map\n",
    "- Histogram\n",
    "\n",
    "De gemiddelde gender equality rate van elk jaar berekenen en die plotten. Vervolgens die lijn extrapoleren om te kijken of het doel in 2030 wordt gehaald. \n",
    "\n",
    "Subconclusion gender equality rate\n",
    " --> omdat alle landen teveel is om verder te analyseren, nemen we alleen de 15 landen die het slechtste scoren. "
   ]
  },
  {
   "cell_type": "markdown",
   "metadata": {},
   "source": [
    "# Sub question 2: GDP\n",
    "Intro\n",
    "\n",
    "Correlatie tussen GDP en gender equality rate analyseren met behulp van een scatterplot\n",
    "\n",
    "Bar plot van de GDP waarde van 2017 van de 15 slechtste landen. \n",
    "(hier is ook nog missing data, maar niet zeker hoe ik hier mee om ga). \n",
    "\n",
    "Grafiek van de verandering in GDP over de jaren heen. \n",
    "\n",
    "subconclusion"
   ]
  },
  {
   "cell_type": "markdown",
   "metadata": {},
   "source": [
    "# Sub question 3: Child marriages\n",
    "\n",
    "Intro\n",
    "\n",
    "Correlatie tussen child marriages en gender equality rate analyseren met behulp van een scatterplot\n",
    "\n",
    "Aangezien er veel missing data is uit het jaar 2017 zal de data uit het jaar 2014 gebruikt worden. Zal gemerged worden met de dataset van de OECD. \n",
    "Bar plot van de child marriages waarde van 2014 (waar bekend) van de 15 slechtste landen. \n",
    " \n",
    "\n",
    "Grafiek van de verandering in child marriages over de jaren heen. \n",
    "\n",
    "subconclusion"
   ]
  },
  {
   "cell_type": "markdown",
   "metadata": {},
   "source": [
    "# Sub question 4: Education\n",
    "\n",
    "Intro\n",
    "\n",
    "Welke indicator wordt hier gebruikt? Wat is de data die beschikbaar is? Missing data? Op welke manier wordt de value gegeven? In percentages, absolute aantallen?\n",
    "\n",
    "Verschil tussen mannen en vrouw in education. Dit visualiseren met behulp van een bar plot waar bars bovenop elkaar worden geplot. \n",
    "\n",
    "Grafiek van de verandering ontwikkelingen over de jaren heen per land. Met een lijn van man en een lijn van vrouw\n",
    "\n",
    "subconclusion"
   ]
  },
  {
   "cell_type": "markdown",
   "metadata": {},
   "source": [
    "# Sub question 5: Health care\n",
    "\n",
    "Intro\n",
    "\n",
    "Welke indicator is gebruikt?\n",
    "\n",
    "Verschil tussen mannen en vrouw in health care. Dit visualiseren met behulp van een bar plot waar bars bovenop elkaar worden geplot. \n",
    "\n",
    "Grafiek van de verandering ontwikkelingen over de jaren heen per land. Met een lijn van man en een lijn van vrouw\n",
    "\n",
    "subconclusion"
   ]
  },
  {
   "cell_type": "markdown",
   "metadata": {},
   "source": [
    "# Conclusion\n",
    "\n",
    "*text*"
   ]
  },
  {
   "cell_type": "markdown",
   "metadata": {},
   "source": [
    "# Discussion\n",
    "\n",
    "*text*"
   ]
  },
  {
   "cell_type": "markdown",
   "metadata": {},
   "source": [
    "# Bibliography\n",
    "\n",
    "*\n",
    "DESA. (2018). Goal 5 .:. Sustainable Development Knowledge Platform. Retrieved October 23, 2018, from https://sustainabledevelopment.un.org/sdg5\n",
    "*\n",
    "\n",
    "*\n",
    "Girls not Brides. (2018). What is the impact of Child Marriage:. Retrieved October 23, 2018, from https://www.girlsnotbrides.org/themes/sustainable-development-goals-sdgs/\n",
    "*\n",
    "\n",
    "*\n",
    "United Nations. (2018). About the Sustainable Development Goals - United Nations Sustainable Development. Retrieved October 23, 2018, from https://www.un.org/sustainabledevelopment/sustainable-development-goals/\n",
    "*\n",
    "\n",
    "*\n",
    "UNDP. (2018). Goal 5: Gender equality | UNDP. Retrieved October 23, 2018, from http://www.undp.org/content/undp/en/home/sustainable-development-goals/goal-5-gender-equality.html\n",
    "*\n",
    "\n",
    "*\n",
    "United Nations. (2018b). The Sustainable Development Goals Report 2018 (978-92-1-363317-5). Retrieved from https://unstats.un.org/sdgs/files/report/2018/thesustainabledevelopmentgoalsreport2018.pdf\n",
    "*"
   ]
  }
 ],
 "metadata": {
  "kernelspec": {
   "display_name": "Python 3",
   "language": "python",
   "name": "python3"
  },
  "language_info": {
   "codemirror_mode": {
    "name": "ipython",
    "version": 3
   },
   "file_extension": ".py",
   "mimetype": "text/x-python",
   "name": "python",
   "nbconvert_exporter": "python",
   "pygments_lexer": "ipython3",
   "version": "3.6.5"
  }
 },
 "nbformat": 4,
 "nbformat_minor": 2
}
