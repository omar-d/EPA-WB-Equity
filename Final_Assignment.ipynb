{
 "cells": [
  {
   "cell_type": "code",
   "execution_count": 23,
   "metadata": {},
   "outputs": [
    {
     "data": {
      "text/html": [
       "<img src=\"Logo.png\" width=\"800\" height=\"100\"/>"
      ],
      "text/plain": [
       "<IPython.core.display.Image object>"
      ]
     },
     "execution_count": 23,
     "metadata": {},
     "output_type": "execute_result"
    }
   ],
   "source": [
    "from IPython.display import Image\n",
    "img = 'Logo.png' \n",
    "Image(url=img, width=800, height=100)"
   ]
  },
  {
   "cell_type": "markdown",
   "metadata": {},
   "source": [
    "# Introduction\n",
    "\n",
    "In March 2016, the 47th session of the United Nations (UN) Statistical Commission was organized to develop a framework to conquer the biggest global challenges of the world. During this session the global indicator framework was developed by the Inter-Agency and Expert Group on Sustainable Development Goal Indicators (IAEG-SDGs) and agreed to as possible working tool (DESA, 2018). \n",
    "\n",
    "This framework include “The Sustainable Development Goals”, which are the blueprint to achieve a better and sustainable future for every individual worldwide. The blueprint include 17 goals that cover the global challenges and are interrelated. The main goal is to leave no individual behind. The formulation of several sub-goals within these 17 goals provide specific targets. These targets must be achieved by 2030 (United Nations, 2018). \n",
    "\n",
    "Every year, the status of progression considering the goals is reviewed according to the most up to date data available. The highlights of these data considering progression and remaining gaps were reported in  “The Sustainable Development Goals Report 2018”. In addition the interconnections across goals and targets are examined. In the report of 2018 the main conclusion was that people worldwide have a higher quality of life compared with a decade ago. However, the process on targets to make sure that no individual is left behind is lacking to meet the targets of 2030, which is a  disturbing conclusion (United Nations, 2018b).\n",
    "\n",
    "One of these target goals is about gender equality. Goal five wants to end all forms of discrimination against women and girls. This is not only a basic human right but will also help drive up economic growth and development across the boards (UNDP, 2018). There are still huge inequalities between men and women.\n",
    "\n",
    "Globally, women earn only 77 cents for every dollar a man earns for doing the same work, less than 20% of the world's landholders are women, 7 in 10 women in the world experience physical and/or sexual violence at some point in their life’s and only 22.8% of all national parliamentarians were woman in 2016. However,  that's not all, still 750 million women and girls who are alive today were married before their 18th birthday (UNDP, 2018).\n",
    "\n",
    "Child marriage is the third sub-goal of the gender equality goal. it states: *\"Eliminate all harmful practices such as child, early and forced marriage and female genital mutilation\"*\n",
    "\n",
    "The target is to bring the proportion of women aged 20-24 years who were married or in a union before age 15 and before age 18 to zero (DESA, 2018). 193 countries now, have agreed to end child marriage by 2030. Until than 12 million girls are married before their 18th birthday every year (Girls not Brides, 2018).\n",
    "\n",
    "This target has not only effect on the gender equality target goal, but it is also represented in seven other goals. Child marriage also influences goal one: no poverty, goal two: zero hunger, goal three: good health and wellbeing, goal four: inclusive and quality education, goal eight: economic growth, goal ten: reduce inequalities and goal 16: peace, justice and strong institutions (Girls not Brides, 2018). If child marriage is not eliminated, these goals will not be achieved.\n",
    "\n",
    "Concluded that child marriage has to end, will it actually help to reach gender equality? This research paper will analyse the different goals and assess if there is a correlation between child marriage and the aforementioned  inequalities. The research question will be: *\" Will ending child marriage contribute to gender equality\"?*\n",
    "\n",
    "STRUCTURE OF THE PAGE AND SUBQUESTIONS"
   ]
  },
  {
   "cell_type": "markdown",
   "metadata": {},
   "source": [
    "# General functions and code"
   ]
  },
  {
   "cell_type": "markdown",
   "metadata": {},
   "source": [
    "Before the data can be analysed, there are some general steps to be taken. Because these things are necessary in multiple questions and lines of code, the functions are made and listed beneath. In the questions the function will be called and a reference to the general function will be given. \n",
    "\n",
    "First all needed libraries are called, Then the additional used data from another source than World Bank is described and last the functions are created."
   ]
  },
  {
   "cell_type": "code",
   "execution_count": 25,
   "metadata": {},
   "outputs": [],
   "source": [
    "#All necessary libraries \n",
    "\n",
    "%matplotlib inline\n",
    "import pandas as pd\n",
    "import numpy as np\n",
    "import matplotlib.pyplot as plt\n",
    "import wbdata\n",
    "import json\n",
    "import requests\n",
    "import pycountry\n",
    "from scipy import stats\n",
    "from bs4 import BeautifulSoup"
   ]
  },
  {
   "cell_type": "markdown",
   "metadata": {},
   "source": [
    "For this research, the data from the World Bank (wbdata) wasn't sufficient to analyse our sub-questions. Because of this data from the Organisation for Economic Cooperation and Development(OECD) databank is used. Beneath a short explanation of how the necessary data frame is created will be given.\n",
    "\n",
    "The website BeautifulSoup is used to retrieve additional data from the website of OECD. Next, List comprehension and 'soup.find_all' is used to create lists in order to make a data frame. After that a new list is made with the countries from old list: 'list_country' but with converted ISO-two digit country code to ISO-three digit country code.\n",
    "After this the  data frame can be created. Last, the type of the column 'value' is changed into a float and  added a more clear value to the column 'indicator'. Also the value in the column \"value\" is multiplied by 100 to show the percentage and to make it comparable with the data from the World Bank."
   ]
  },
  {
   "cell_type": "code",
   "execution_count": 28,
   "metadata": {},
   "outputs": [],
   "source": [
    "#Step 1: retrieving additional data\n",
    "response = requests.get('https://stats.oecd.org/restsdmx/sdmx.ashx/GetData/GIDDB2014/ALL.AUS+AUT+BEL+CAN+CHL+CZE+DNK+EST+FIN+FRA+DEU+GRC+HUN+ISL+IRL+ISR+ITA+JPN+KOR+LVA+LTU+LUX+MEX+NLD+NZL+NOR+POL+PRT+SVK+SVN+ESP+SWE+CHE+TUR+GBR+USA+NMEC+AFG+ALB+DZA+AGO+ARG+ARM+AZE+BHR+BGD+BLR+BEN+BTN+BOL+BIH+BWA+BRA+BGR+BFA+BDI+KHM+CMR+CAF+TCD+CHN+COL+COG+COD+CRI+CIV+HRV+CUB+CYP+DOM+ECU+EGY+SLV+GNQ+ERI+ETH+FJI+MKD+GAB+GMB+GEO+GHA+GTM+GIN+GNB+HTI+HND+HKG+IND+IDN+IRN+IRQ+JAM+JOR+KAZ+KEN+PRK+KWT+KGZ+LAO+LBN+LSO+LBR+LBY+MDG+MWI+MYS+MLI+MRT+MUS+MDA+MNG+MAR+MOZ+MMR+NAM+NPL+NIC+NER+NGA+PSE+OMN+PAK+PAN+PNG+PRY+PER+PHL+QAT+ROU+RUS+RWA+SAU+SEN+SRB+SLE+SGP+SOM+ZAF+LKA+SDN+SWZ+SYR+TJK+TZA+THA+TLS+TGO+TTO+TUN+TKM+UGA+UKR+ARE+URY+UZB+VEN+VNM+YEM+ZMB+ZWE.AIC.FC_2/all?startTime=2014&endTime=2014')\n",
    "data = response.content\n",
    "soup = BeautifulSoup(data, \"lxml\")\n",
    "#print(soup)\n",
    "\n",
    "#Step 2: Lists are created to make a dataframe\n",
    "list_country = [x.get_attribute_list('value')[0] for x in soup.find_all(\"value\", attrs={ \"concept\" : \"LOCATION\"})]\n",
    "list_date = [x.text for x in soup.find_all(\"time\")]\n",
    "list_variable = [x.get_attribute_list('value')[0] for x in soup.find_all(\"value\", attrs={ \"concept\" : \"VAR\"})]\n",
    "list_value = [x.get_attribute_list('value')[0] for x in soup.find_all(\"obsvalue\", attrs={ \"value\" : True})]\n",
    "\n",
    "#Step 3: ISO-two digit countrycode convertion to ISO-three digit country code\n",
    "new_countrylist = [ pycountry.countries.get(alpha_3=i).alpha_2 for i in list_country ]\n",
    "# new_countrylist\n",
    "\n",
    "#Step 4: Creating dataframe\n",
    "OECD_df = pd.DataFrame({'country':new_countrylist,'date':list_date,'indicator':list_variable, 'value':list_value})\n",
    "# OECD_df\n",
    "\n",
    "#Step 5: Changing column values\n",
    "OECD_df['value'] = OECD_df.value.astype(float).round(6)\n",
    "OECD_df['value'] = OECD_df['value'] *100\n",
    "OECD_df['indicator']= 'Percentage of women married between 15-19 years of age'  \n",
    "# OECD_df"
   ]
  },
  {
   "cell_type": "markdown",
   "metadata": {},
   "source": [
    "This function is for cleaning the data from the world Bank datasets. A data frame is created, the data in this frame will be cleaned. Then the earlier determined 15 countries with the worst Gender equality rate are filtered from the data frame, combined with the years 2007 till 2017. Last the data frame will be sorted from worst to less bad and the missing data is filled in. "
   ]
  },
  {
   "cell_type": "code",
   "execution_count": null,
   "metadata": {},
   "outputs": [],
   "source": [
    "def clean(dataset):\n",
    "    #create data frame\n",
    "    name = pd.DataFrame(wbdata.get_data(dataset))\n",
    "    \n",
    "    #clean the date\n",
    "    name['country_code'] = name.country.astype(str).str.slice(8,10)\n",
    "    name['country'] = name.country.astype(str).str.slice(23,-2)\n",
    "    name['indicator'] = name.indicator.astype(str).str.slice(35,-2)\n",
    "    name[\"date\"] = name[\"date\"].astype(int) \n",
    "    name[\"value\"] = name[\"value\"].astype(float).round(2)\n",
    "    \n",
    "    CPIA_worst15 = pd.read_csv(\"CPIA_worst15.csv\")\n",
    "    CPIA_worst15[\"date\"] = CPIA_worst15[\"date\"].astype(int) \n",
    "    \n",
    "    years = name.loc[(name['date'] >= 2007) & (name['date'] <= 2017)]\n",
    "\n",
    "    years_worst = years[years.country.isin(list(CPIA_worst15.country))]\n",
    "    years_worst_sorted = years_worst.sort_values(by='date',ascending=True)\n",
    "    \n",
    "    for i in years_worst_sorted.country.unique():\n",
    "        years_worst_sorted.loc[years_worst_sorted['country'] == i]  = years_worst_sorted.loc[(years_worst_sorted['country'] == i)].ffill().bfill()\n",
    "    return years_worst_sorted"
   ]
  },
  {
   "cell_type": "markdown",
   "metadata": {},
   "source": [
    "This function is for making a line plot of certain dataframes. "
   ]
  },
  {
   "cell_type": "code",
   "execution_count": null,
   "metadata": {},
   "outputs": [],
   "source": [
    "def graph(dataframe, title_graph, x_label, y_label):\n",
    "    # Visualising changes over time per indicator\n",
    "\n",
    "    fig,ax = plt.subplots(figsize=(30, 15))\n",
    "\n",
    "    for name in dataframe[\"country\"].unique():\n",
    "        ax.plot(dataframe[dataframe.country==name].date,dataframe[dataframe.country==name].value,label=name)\n",
    "\n",
    "    #change size and location of legend\n",
    "    ax.legend(loc=(1.1, 0.2), fontsize = 'xx-large')\n",
    "\n",
    "    #values of the x and y axis\n",
    "    plt.xticks(rotation = 65, fontsize = 20)\n",
    "    plt.yticks(fontsize = 20)\n",
    "\n",
    "    #labels of the x and y axis \n",
    "    plt.title(title_graph, fontsize = 30)\n",
    "    plt.xlabel(x_label, fontsize = 25)\n",
    "    plt.ylabel(y_label, fontsize = 25)\n",
    "    \n",
    "    return"
   ]
  },
  {
   "cell_type": "markdown",
   "metadata": {},
   "source": [
    "# Sub question 1: Gender Equality\n",
    "\n",
    "Gender equality rate van alle landen\n",
    "Introductie wat er in dataset staat.\n",
    "\n",
    "Visualiseren:\n",
    "- World map\n",
    "- Histogram\n",
    "\n",
    "De gemiddelde gender equality rate van elk jaar berekenen en die plotten. Vervolgens die lijn extrapoleren om te kijken of het doel in 2030 wordt gehaald. \n",
    "\n",
    "Subconclusion gender equality rate\n",
    " --> omdat alle landen teveel is om verder te analyseren, nemen we alleen de 15 landen die het slechtste scoren. "
   ]
  },
  {
   "cell_type": "markdown",
   "metadata": {},
   "source": [
    "# Sub question 2: GDP\n",
    "Intro\n",
    "\n",
    "Correlatie tussen GDP en gender equality rate analyseren met behulp van een scatterplot\n",
    "\n",
    "Bar plot van de GDP waarde van 2017 van de 15 slechtste landen. \n",
    "(hier is ook nog missing data, maar niet zeker hoe ik hier mee om ga). \n",
    "\n",
    "Grafiek van de verandering in GDP over de jaren heen. \n",
    "\n",
    "subconclusion"
   ]
  },
  {
   "cell_type": "markdown",
   "metadata": {},
   "source": [
    "# Sub question 3: Child marriages\n",
    "\n",
    "Intro\n",
    "\n",
    "Correlatie tussen child marriages en gender equality rate analyseren met behulp van een scatterplot\n",
    "\n",
    "Aangezien er veel missing data is uit het jaar 2017 zal de data uit het jaar 2014 gebruikt worden. Zal gemerged worden met de dataset van de OECD. \n",
    "Bar plot van de child marriages waarde van 2014 (waar bekend) van de 15 slechtste landen. \n",
    " \n",
    "\n",
    "Grafiek van de verandering in child marriages over de jaren heen. \n",
    "\n",
    "subconclusion"
   ]
  },
  {
   "cell_type": "markdown",
   "metadata": {},
   "source": [
    "# Sub question 4: Education\n",
    "\n",
    "Intro\n",
    "\n",
    "Welke indicator wordt hier gebruikt? Wat is de data die beschikbaar is? Missing data? Op welke manier wordt de value gegeven? In percentages, absolute aantallen?\n",
    "\n",
    "Verschil tussen mannen en vrouw in education. Dit visualiseren met behulp van een bar plot waar bars bovenop elkaar worden geplot. \n",
    "\n",
    "Grafiek van de verandering ontwikkelingen over de jaren heen per land. Met een lijn van man en een lijn van vrouw\n",
    "\n",
    "subconclusion"
   ]
  },
  {
   "cell_type": "markdown",
   "metadata": {},
   "source": [
    "# Sub question 5: Health care\n",
    "\n",
    "Intro\n",
    "\n",
    "Welke indicator is gebruikt?\n",
    "\n",
    "Verschil tussen mannen en vrouw in health care. Dit visualiseren met behulp van een bar plot waar bars bovenop elkaar worden geplot. \n",
    "\n",
    "Grafiek van de verandering ontwikkelingen over de jaren heen per land. Met een lijn van man en een lijn van vrouw\n",
    "\n",
    "subconclusion"
   ]
  },
  {
   "cell_type": "code",
   "execution_count": null,
   "metadata": {},
   "outputs": [],
   "source": []
  },
  {
   "cell_type": "markdown",
   "metadata": {},
   "source": [
    "# Conclusion\n",
    "\n",
    "*text*"
   ]
  },
  {
   "cell_type": "markdown",
   "metadata": {},
   "source": [
    "# Discussion\n",
    "\n",
    "*text*"
   ]
  },
  {
   "cell_type": "markdown",
   "metadata": {},
   "source": [
    "# Bibliography\n",
    "\n",
    "*\n",
    "DESA. (2018). Goal 5 .:. Sustainable Development Knowledge Platform. Retrieved October 23, 2018, from https://sustainabledevelopment.un.org/sdg5\n",
    "*\n",
    "\n",
    "*\n",
    "Girls not Brides. (2018). What is the impact of Child Marriage:. Retrieved October 23, 2018, from https://www.girlsnotbrides.org/themes/sustainable-development-goals-sdgs/\n",
    "*\n",
    "\n",
    "*\n",
    "United Nations. (2018). About the Sustainable Development Goals - United Nations Sustainable Development. Retrieved October 23, 2018, from https://www.un.org/sustainabledevelopment/sustainable-development-goals/\n",
    "*\n",
    "\n",
    "*\n",
    "UNDP. (2018). Goal 5: Gender equality | UNDP. Retrieved October 23, 2018, from http://www.undp.org/content/undp/en/home/sustainable-development-goals/goal-5-gender-equality.html\n",
    "*\n",
    "\n",
    "*\n",
    "United Nations. (2018b). The Sustainable Development Goals Report 2018 (978-92-1-363317-5). Retrieved from https://unstats.un.org/sdgs/files/report/2018/thesustainabledevelopmentgoalsreport2018.pdf\n",
    "*"
   ]
  }
 ],
 "metadata": {
  "kernelspec": {
   "display_name": "Python 3",
   "language": "python",
   "name": "python3"
  },
  "language_info": {
   "codemirror_mode": {
    "name": "ipython",
    "version": 3
   },
   "file_extension": ".py",
   "mimetype": "text/x-python",
   "name": "python",
   "nbconvert_exporter": "python",
   "pygments_lexer": "ipython3",
   "version": "3.6.5"
  }
 },
 "nbformat": 4,
 "nbformat_minor": 2
}
